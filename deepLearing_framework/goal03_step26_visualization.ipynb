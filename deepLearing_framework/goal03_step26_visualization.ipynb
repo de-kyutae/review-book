{
 "cells": [
  {
   "cell_type": "markdown",
   "metadata": {},
   "source": [
    "## 26.1 시각화 코드 예"
   ]
  },
  {
   "cell_type": "code",
   "execution_count": 2,
   "metadata": {},
   "outputs": [],
   "source": [
    "import numpy as np\n",
    "from dezero import Variable\n",
    "from dezero.utils import get_dot_graph"
   ]
  },
  {
   "cell_type": "code",
   "execution_count": 14,
   "metadata": {},
   "outputs": [
    {
     "name": "stdout",
     "output_type": "stream",
     "text": [
      "digraph g {\n",
      "140423187932832 [label=\"y\", color=orange, style=filled]\n",
      "140423187931200 [label=\"Add\", color=lightblue, style=filled, shape=box]\n",
      "140423179706272 -> 140423187931200\n",
      "140423179702528 -> 140423187931200\n",
      "140423187931200 -> 140423187932832\n",
      "140423179706272 [label=\"x0\", color=orange, style=filled]\n",
      "140423179702528 [label=\"x1\", color=orange, style=filled]\n",
      "}\n"
     ]
    }
   ],
   "source": [
    "x0 = Variable(np.array(1.0))\n",
    "x1 = Variable(np.array(1.0))\n",
    "y = x0 + x1\n",
    "\n",
    "x0.name = 'x0'\n",
    "x1.name = 'x1'\n",
    "y.name ='y'\n",
    "\n",
    "txt = get_dot_graph(y, verbose = False)\n",
    "print(txt)\n",
    "\n",
    "with open('sample_False.dot','w') as o:\n",
    "    o.write(txt)"
   ]
  },
  {
   "cell_type": "markdown",
   "metadata": {},
   "source": [
    "Verbose = False\n",
    "\n",
    "![sample_verbose(False)](sample_false.png)\n",
    "\n",
    "verbose = True\n",
    "\n",
    "![sample_verbose(True)](sammple1.png)"
   ]
  },
  {
   "cell_type": "markdown",
   "metadata": {},
   "source": [
    "## 26.2 계산 그래프에서 DOT 언어로 변환하기"
   ]
  },
  {
   "cell_type": "code",
   "execution_count": null,
   "metadata": {},
   "outputs": [],
   "source": [
    "def _dot_var(v, verbose=False):\n",
    "    "
   ]
  }
 ],
 "metadata": {
  "kernelspec": {
   "display_name": "Python 3",
   "language": "python",
   "name": "python3"
  },
  "language_info": {
   "codemirror_mode": {
    "name": "ipython",
    "version": 3
   },
   "file_extension": ".py",
   "mimetype": "text/x-python",
   "name": "python",
   "nbconvert_exporter": "python",
   "pygments_lexer": "ipython3",
   "version": "3.8.5"
  }
 },
 "nbformat": 4,
 "nbformat_minor": 4
}
