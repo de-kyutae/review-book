{
 "cells": [
  {
   "cell_type": "markdown",
   "metadata": {
    "toc": true
   },
   "source": [
    "<h1>Table of Contents<span class=\"tocSkip\"></span></h1>\n",
    "<div class=\"toc\"><ul class=\"toc-item\"><li><span><a href=\"#STEP_01\" data-toc-modified-id=\"STEP_01-1\"><span class=\"toc-item-num\">1&nbsp;&nbsp;</span>STEP_01</a></span><ul class=\"toc-item\"><li><span><a href=\"#1.1-변수란?\" data-toc-modified-id=\"1.1-변수란?-1.1\"><span class=\"toc-item-num\">1.1&nbsp;&nbsp;</span>1.1 변수란?</a></span></li><li><span><a href=\"#1.2-Variable-클래스-구현\" data-toc-modified-id=\"1.2-Variable-클래스-구현-1.2\"><span class=\"toc-item-num\">1.2&nbsp;&nbsp;</span>1.2 Variable 클래스 구현</a></span></li><li><span><a href=\"#1.3-넘파이의-다차원-배열\" data-toc-modified-id=\"1.3-넘파이의-다차원-배열-1.3\"><span class=\"toc-item-num\">1.3&nbsp;&nbsp;</span>1.3 넘파이의 다차원 배열</a></span></li></ul></li><li><span><a href=\"#STEP_02\" data-toc-modified-id=\"STEP_02-2\"><span class=\"toc-item-num\">2&nbsp;&nbsp;</span>STEP_02</a></span><ul class=\"toc-item\"><li><span><a href=\"#2.1-함수란?\" data-toc-modified-id=\"2.1-함수란?-2.1\"><span class=\"toc-item-num\">2.1&nbsp;&nbsp;</span>2.1 함수란?</a></span></li><li><span><a href=\"#2.2-Function-클래스-구현\" data-toc-modified-id=\"2.2-Function-클래스-구현-2.2\"><span class=\"toc-item-num\">2.2&nbsp;&nbsp;</span>2.2 Function 클래스 구현</a></span></li></ul></li></ul></div>"
   ]
  },
  {
   "cell_type": "code",
   "execution_count": null,
   "metadata": {
    "collapsed": true,
    "id": "H95-s5v4ZoGv"
   },
   "outputs": [],
   "source": []
  },
  {
   "cell_type": "code",
   "execution_count": 1,
   "metadata": {
    "colab": {
     "base_uri": "https://localhost:8080/"
    },
    "executionInfo": {
     "elapsed": 19672,
     "status": "ok",
     "timestamp": 1614662818293,
     "user": {
      "displayName": "KYUTAE KIM",
      "photoUrl": "",
      "userId": "12560873631828618443"
     },
     "user_tz": -540
    },
    "id": "8tx08YDHZv_t",
    "outputId": "c9de41f4-5906-41cb-c6e4-f3448e56babe"
   },
   "outputs": [
    {
     "name": "stdout",
     "output_type": "stream",
     "text": [
      "Mounted at /content/drive\n"
     ]
    }
   ],
   "source": [
    "from google.colab import drive\n",
    "drive.mount('/content/drive')"
   ]
  },
  {
   "cell_type": "markdown",
   "metadata": {
    "id": "BmFB52pbdIT6"
   },
   "source": [
    "# STEP_01"
   ]
  },
  {
   "cell_type": "markdown",
   "metadata": {
    "id": "1QBwxB0baYqH"
   },
   "source": [
    "## 1.1 변수란?"
   ]
  },
  {
   "cell_type": "code",
   "execution_count": null,
   "metadata": {
    "id": "s6lY2rNUdE3H"
   },
   "outputs": [],
   "source": []
  },
  {
   "cell_type": "markdown",
   "metadata": {
    "id": "9SM2yn-zaeYj"
   },
   "source": [
    "## 1.2 Variable 클래스 구현\n",
    "(PEP8 코딩 규칙)\n"
   ]
  },
  {
   "cell_type": "code",
   "execution_count": null,
   "metadata": {
    "id": "HdAD2mocdGDM"
   },
   "outputs": [],
   "source": []
  },
  {
   "cell_type": "code",
   "execution_count": 2,
   "metadata": {
    "executionInfo": {
     "elapsed": 626,
     "status": "ok",
     "timestamp": 1614663121837,
     "user": {
      "displayName": "KYUTAE KIM",
      "photoUrl": "",
      "userId": "12560873631828618443"
     },
     "user_tz": -540
    },
    "id": "9N6O8gbiabYT"
   },
   "outputs": [],
   "source": [
    "class Variable:\n",
    "  def __init__(self, data):\n",
    "    self.data=data #__init__에 주어진 인수를 인스턴스 변수 data에 대입, 실제 데이터가 Variable의 data에 보관\n"
   ]
  },
  {
   "cell_type": "markdown",
   "metadata": {
    "id": "guRHsfakbGMX"
   },
   "source": [
    "상자에 넣는 데이터로 넘파이의 다차원 배열 사용"
   ]
  },
  {
   "cell_type": "code",
   "execution_count": 3,
   "metadata": {
    "colab": {
     "base_uri": "https://localhost:8080/"
    },
    "executionInfo": {
     "elapsed": 560,
     "status": "ok",
     "timestamp": 1614663206836,
     "user": {
      "displayName": "KYUTAE KIM",
      "photoUrl": "",
      "userId": "12560873631828618443"
     },
     "user_tz": -540
    },
    "id": "MqZpdAtqa_jP",
    "outputId": "336c01f3-86a4-4f23-ab37-388dab7f61e5"
   },
   "outputs": [
    {
     "name": "stdout",
     "output_type": "stream",
     "text": [
      "1.0\n"
     ]
    }
   ],
   "source": [
    "import numpy as np\n",
    "\n",
    "data = np.array(1.0)\n",
    "x = Variable(data) # x는 데이터를 담는 상자\n",
    "print(x.data)"
   ]
  },
  {
   "cell_type": "markdown",
   "metadata": {
    "id": "IvTWVCcXb7vL"
   },
   "source": [
    "## 1.3 넘파이의 다차원 배열"
   ]
  },
  {
   "cell_type": "markdown",
   "metadata": {
    "id": "8ak9nh5Gce2m"
   },
   "source": [
    "3차원 벡터 : 벡터의 원소의 수\n",
    "\n",
    "3차원 배열 : 축이 3개"
   ]
  },
  {
   "cell_type": "markdown",
   "metadata": {
    "id": "1jblatImdRiT"
   },
   "source": [
    "# STEP_02"
   ]
  },
  {
   "cell_type": "markdown",
   "metadata": {
    "id": "JvCCf8eCdVni"
   },
   "source": [
    "## 2.1 함수란?"
   ]
  },
  {
   "cell_type": "markdown",
   "metadata": {
    "id": "aFtnS7DGeE00"
   },
   "source": [
    "graph : 컴퓨터 과학에서 그래프는 노드(node: 교점)와 (방향이 있는)에지(edge: 변, 간선)로 구성된 데이터 "
   ]
  },
  {
   "cell_type": "markdown",
   "metadata": {
    "id": "g0m-oeFSeK8Z"
   },
   "source": [
    "## 2.2 Function 클래스 구현 \n",
    "앞서 구현한 Variable 인스턴스 -> Function 클래스로 구현 (변수로 다룰수 있는 함수)\n",
    "\n",
    "\n",
    "*   Function 클래스는 Variable 인스턴스 입력을 받아 Variables 인스턴스를 출력\n",
    "*   Variable 인스턴스의 실제 데이터는 인스턴스 변수인 data에 있음 \n",
    "\n"
   ]
  },
  {
   "cell_type": "code",
   "execution_count": 4,
   "metadata": {
    "executionInfo": {
     "elapsed": 530,
     "status": "ok",
     "timestamp": 1614664403230,
     "user": {
      "displayName": "KYUTAE KIM",
      "photoUrl": "",
      "userId": "12560873631828618443"
     },
     "user_tz": -540
    },
    "id": "4TxI7rcKe0Wy"
   },
   "outputs": [],
   "source": [
    "class Function:\n",
    "  def __call__(self, input):\n",
    "    x = input.data # 데이터를 꺼낸다\n",
    "    y = x ** 2 # 실제 계산\n",
    "    output = Variable(y)\n",
    "    return output"
   ]
  },
  {
   "cell_type": "code",
   "execution_count": null,
   "metadata": {
    "id": "8Tgmozeqf4bH"
   },
   "outputs": [],
   "source": []
  }
 ],
 "metadata": {
  "colab": {
   "collapsed_sections": [],
   "name": "step01.ipynb",
   "provenance": []
  },
  "kernelspec": {
   "display_name": "Python 3",
   "language": "python",
   "name": "python3"
  },
  "language_info": {
   "codemirror_mode": {
    "name": "ipython",
    "version": 3
   },
   "file_extension": ".py",
   "mimetype": "text/x-python",
   "name": "python",
   "nbconvert_exporter": "python",
   "pygments_lexer": "ipython3",
   "version": "3.8.5"
  },
  "toc": {
   "base_numbering": 1,
   "nav_menu": {},
   "number_sections": true,
   "sideBar": true,
   "skip_h1_title": false,
   "title_cell": "Table of Contents",
   "title_sidebar": "Contents",
   "toc_cell": true,
   "toc_position": {},
   "toc_section_display": true,
   "toc_window_display": false
  },
  "varInspector": {
   "cols": {
    "lenName": 16,
    "lenType": 16,
    "lenVar": 40
   },
   "kernels_config": {
    "python": {
     "delete_cmd_postfix": "",
     "delete_cmd_prefix": "del ",
     "library": "var_list.py",
     "varRefreshCmd": "print(var_dic_list())"
    },
    "r": {
     "delete_cmd_postfix": ") ",
     "delete_cmd_prefix": "rm(",
     "library": "var_list.r",
     "varRefreshCmd": "cat(var_dic_list()) "
    }
   },
   "types_to_exclude": [
    "module",
    "function",
    "builtin_function_or_method",
    "instance",
    "_Feature"
   ],
   "window_display": false
  }
 },
 "nbformat": 4,
 "nbformat_minor": 1
}
