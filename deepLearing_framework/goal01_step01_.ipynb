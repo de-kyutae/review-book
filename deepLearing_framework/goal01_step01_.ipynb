{
 "cells": [
  {
   "cell_type": "markdown",
   "metadata": {
    "toc": true
   },
   "source": [
    "<h1>Table of Contents<span class=\"tocSkip\"></span></h1>\n",
    "<div class=\"toc\"><ul class=\"toc-item\"><li><span><a href=\"#STEP_01\" data-toc-modified-id=\"STEP_01-1\"><span class=\"toc-item-num\">1&nbsp;&nbsp;</span>STEP_01</a></span><ul class=\"toc-item\"><li><span><a href=\"#1.1-변수란?\" data-toc-modified-id=\"1.1-변수란?-1.1\"><span class=\"toc-item-num\">1.1&nbsp;&nbsp;</span>1.1 변수란?</a></span></li><li><span><a href=\"#1.2-Variable-클래스-구현\" data-toc-modified-id=\"1.2-Variable-클래스-구현-1.2\"><span class=\"toc-item-num\">1.2&nbsp;&nbsp;</span>1.2 Variable 클래스 구현</a></span></li><li><span><a href=\"#1.3-넘파이의-다차원-배열\" data-toc-modified-id=\"1.3-넘파이의-다차원-배열-1.3\"><span class=\"toc-item-num\">1.3&nbsp;&nbsp;</span>1.3 넘파이의 다차원 배열</a></span></li></ul></li><li><span><a href=\"#STEP_02\" data-toc-modified-id=\"STEP_02-2\"><span class=\"toc-item-num\">2&nbsp;&nbsp;</span>STEP_02</a></span><ul class=\"toc-item\"><li><span><a href=\"#2.1-함수란?\" data-toc-modified-id=\"2.1-함수란?-2.1\"><span class=\"toc-item-num\">2.1&nbsp;&nbsp;</span>2.1 함수란?</a></span></li><li><span><a href=\"#2.2-Function-클래스-구현\" data-toc-modified-id=\"2.2-Function-클래스-구현-2.2\"><span class=\"toc-item-num\">2.2&nbsp;&nbsp;</span>2.2 Function 클래스 구현</a></span></li><li><span><a href=\"#2.3-Fucntion-클래스-이용\" data-toc-modified-id=\"2.3-Fucntion-클래스-이용-2.3\"><span class=\"toc-item-num\">2.3&nbsp;&nbsp;</span>2.3 Fucntion 클래스 이용</a></span><ul class=\"toc-item\"><li><span><a href=\"#Function-클래스-수정\" data-toc-modified-id=\"Function-클래스-수정-2.3.1\"><span class=\"toc-item-num\">2.3.1&nbsp;&nbsp;</span>Function 클래스 수정</a></span></li><li><span><a href=\"#Function-클래스-상속\" data-toc-modified-id=\"Function-클래스-상속-2.3.2\"><span class=\"toc-item-num\">2.3.2&nbsp;&nbsp;</span>Function 클래스 상속</a></span></li></ul></li></ul></li><li><span><a href=\"#STEP_03\" data-toc-modified-id=\"STEP_03-3\"><span class=\"toc-item-num\">3&nbsp;&nbsp;</span>STEP_03</a></span><ul class=\"toc-item\"><li><span><a href=\"#3.1-Exp-함수-구현\" data-toc-modified-id=\"3.1-Exp-함수-구현-3.1\"><span class=\"toc-item-num\">3.1&nbsp;&nbsp;</span>3.1 Exp 함수 구현</a></span></li><li><span><a href=\"#3.2-함수-연결\" data-toc-modified-id=\"3.2-함수-연결-3.2\"><span class=\"toc-item-num\">3.2&nbsp;&nbsp;</span>3.2 함수 연결</a></span></li></ul></li><li><span><a href=\"#STEP_04\" data-toc-modified-id=\"STEP_04-4\"><span class=\"toc-item-num\">4&nbsp;&nbsp;</span>STEP_04</a></span><ul class=\"toc-item\"><li><span><a href=\"#4.1-미분이란?\" data-toc-modified-id=\"4.1-미분이란?-4.1\"><span class=\"toc-item-num\">4.1&nbsp;&nbsp;</span>4.1 미분이란?</a></span></li><li><span><a href=\"#4.2-수치-미분-구현\" data-toc-modified-id=\"4.2-수치-미분-구현-4.2\"><span class=\"toc-item-num\">4.2&nbsp;&nbsp;</span>4.2 수치 미분 구현</a></span></li><li><span><a href=\"#4.3-합성-함수의-미분\" data-toc-modified-id=\"4.3-합성-함수의-미분-4.3\"><span class=\"toc-item-num\">4.3&nbsp;&nbsp;</span>4.3 합성 함수의 미분</a></span></li></ul></li><li><span><a href=\"#NOTIONS\" data-toc-modified-id=\"NOTIONS-5\"><span class=\"toc-item-num\">5&nbsp;&nbsp;</span>NOTIONS</a></span><ul class=\"toc-item\"><li><span><a href=\"#__-call-__--method\" data-toc-modified-id=\"__-call-__--method-5.1\"><span class=\"toc-item-num\">5.1&nbsp;&nbsp;</span>__ call __  method</a></span></li><li><span><a href=\"#__-name-__-:\" data-toc-modified-id=\"__-name-__-:-5.2\"><span class=\"toc-item-num\">5.2&nbsp;&nbsp;</span>__ name __ :</a></span></li><li><span><a href=\"#상속\" data-toc-modified-id=\"상속-5.3\"><span class=\"toc-item-num\">5.3&nbsp;&nbsp;</span>상속</a></span></li></ul></li></ul></div>"
   ]
  },
  {
   "cell_type": "code",
   "execution_count": null,
   "metadata": {
    "colab": {
     "base_uri": "https://localhost:8080/"
    },
    "id": "8tx08YDHZv_t",
    "outputId": "7d590e89-b810-45b1-f1e9-c72649f3ecf7"
   },
   "outputs": [
    {
     "name": "stdout",
     "output_type": "stream",
     "text": [
      "Mounted at /content/drive\n"
     ]
    }
   ],
   "source": [
    "from google.colab import drive\n",
    "drive.mount('/content/drive')"
   ]
  },
  {
   "cell_type": "code",
   "execution_count": null,
   "metadata": {
    "id": "IBPxZXGz_YAr"
   },
   "outputs": [],
   "source": [
    "cd \"/content/drive/MyDrive/Colab Notebooks/git\""
   ]
  },
  {
   "cell_type": "code",
   "execution_count": null,
   "metadata": {
    "id": "uVX0jeb8_jvv"
   },
   "outputs": [],
   "source": [
    "! git clone https://github.com/de-kyutae/review_book.git"
   ]
  },
  {
   "cell_type": "markdown",
   "metadata": {
    "id": "BmFB52pbdIT6"
   },
   "source": [
    "# STEP_01"
   ]
  },
  {
   "cell_type": "markdown",
   "metadata": {
    "id": "1QBwxB0baYqH"
   },
   "source": [
    "## 1.1 변수란?"
   ]
  },
  {
   "cell_type": "code",
   "execution_count": null,
   "metadata": {
    "id": "s6lY2rNUdE3H"
   },
   "outputs": [],
   "source": []
  },
  {
   "cell_type": "markdown",
   "metadata": {
    "id": "9SM2yn-zaeYj"
   },
   "source": [
    "## 1.2 Variable 클래스 구현\n",
    "(PEP8 코딩 규칙)\n"
   ]
  },
  {
   "cell_type": "code",
   "execution_count": 1,
   "metadata": {
    "id": "9N6O8gbiabYT"
   },
   "outputs": [],
   "source": [
    "class Variable:\n",
    "  def __init__(self, data):\n",
    "    self.data=data #__init__에 주어진 인수를 인스턴스 변수 data에 대입, 실제 데이터가 Variable의 data에 보관\n"
   ]
  },
  {
   "cell_type": "markdown",
   "metadata": {
    "id": "guRHsfakbGMX"
   },
   "source": [
    "상자에 넣는 데이터로 넘파이의 다차원 배열 사용"
   ]
  },
  {
   "cell_type": "code",
   "execution_count": 2,
   "metadata": {
    "colab": {
     "base_uri": "https://localhost:8080/"
    },
    "id": "MqZpdAtqa_jP",
    "outputId": "c467c680-fa46-40d3-8933-8e81c1e4d219"
   },
   "outputs": [
    {
     "name": "stdout",
     "output_type": "stream",
     "text": [
      "1.0\n"
     ]
    }
   ],
   "source": [
    "import numpy as np\n",
    "\n",
    "data = np.array(1.0)\n",
    "x = Variable(data) # x는 데이터를 담는 상자\n",
    "print(x.data)"
   ]
  },
  {
   "cell_type": "markdown",
   "metadata": {
    "id": "IvTWVCcXb7vL"
   },
   "source": [
    "## 1.3 넘파이의 다차원 배열"
   ]
  },
  {
   "cell_type": "markdown",
   "metadata": {
    "id": "8ak9nh5Gce2m"
   },
   "source": [
    "3차원 벡터 : 벡터의 원소의 수\n",
    "\n",
    "3차원 배열 : 축이 3개"
   ]
  },
  {
   "cell_type": "markdown",
   "metadata": {
    "id": "1jblatImdRiT"
   },
   "source": [
    "# STEP_02"
   ]
  },
  {
   "cell_type": "markdown",
   "metadata": {
    "id": "JvCCf8eCdVni"
   },
   "source": [
    "## 2.1 함수란?"
   ]
  },
  {
   "cell_type": "markdown",
   "metadata": {
    "id": "aFtnS7DGeE00"
   },
   "source": [
    "graph : 컴퓨터 과학에서 그래프는 노드(node: 교점)와 (방향이 있는)에지(edge: 변, 간선)로 구성된 데이터 "
   ]
  },
  {
   "cell_type": "markdown",
   "metadata": {
    "id": "g0m-oeFSeK8Z"
   },
   "source": [
    "## 2.2 Function 클래스 구현 \n",
    "앞서 구현한 Variable 인스턴스 -> Function 클래스로 구현 (변수로 다룰수 있는 함수)\n",
    "\n",
    "\n",
    "*   Function 클래스는 Variable 인스턴스 입력을 받아 Variables 인스턴스를 출력\n",
    "*   Variable 인스턴스의 실제 데이터는 인스턴스 변수인 data에 있음 \n",
    "\n"
   ]
  },
  {
   "cell_type": "code",
   "execution_count": 3,
   "metadata": {
    "id": "4TxI7rcKe0Wy"
   },
   "outputs": [],
   "source": [
    "class Function:\n",
    "  def __call__(self, input): # call 메소드의 input : Variable 인스턴스\n",
    "    x = input.data # 데이터를 꺼낸다\n",
    "    y = x ** 2 # 실제 계산\n",
    "    output = Variable(y)\n",
    "    return output"
   ]
  },
  {
   "cell_type": "markdown",
   "metadata": {
    "id": "WbDI3IW3wmfe"
   },
   "source": [
    "## 2.3 Fucntion 클래스 이용 "
   ]
  },
  {
   "cell_type": "code",
   "execution_count": 4,
   "metadata": {
    "colab": {
     "base_uri": "https://localhost:8080/"
    },
    "id": "zy8Q-Vjwwrfl",
    "outputId": "8acc1d4c-4d00-4e9a-b5e5-ae65e0c72832"
   },
   "outputs": [
    {
     "name": "stdout",
     "output_type": "stream",
     "text": [
      "<class '__main__.Variable'>\n",
      "100\n"
     ]
    }
   ],
   "source": [
    "x = Variable(np.array(10))\n",
    "f = Function()\n",
    "y = f(x)\n",
    "\n",
    "print(type(y)) # y의 클래스는 Variable\n",
    "print(y.data) # 데이터는 y.data에 저장"
   ]
  },
  {
   "cell_type": "markdown",
   "metadata": {
    "id": "80aGVadhxpxG"
   },
   "source": [
    "### Function 클래스 수정"
   ]
  },
  {
   "cell_type": "code",
   "execution_count": 5,
   "metadata": {
    "id": "NSWecOGHw2sp"
   },
   "outputs": [],
   "source": [
    "class Function:\n",
    "  def __call__(self, input): # call 메서드 두가지 작업 : 1) 'Variable에서 데이터 찾기'와 2)'계산 결과를 Variable에 포장하기' \n",
    "    x = input.data\n",
    "    y = self.forward(x)\n",
    "    output = Variable(y)\n",
    "    return output\n",
    "\n",
    "  def forward(self,x): #구체적인 계산을 하는 메소드\n",
    "    raise NotImplementedError()"
   ]
  },
  {
   "cell_type": "markdown",
   "metadata": {
    "id": "dabBPDikzEdz"
   },
   "source": [
    "### Function 클래스 상속"
   ]
  },
  {
   "cell_type": "code",
   "execution_count": 6,
   "metadata": {
    "id": "z_nqMYpPuATk"
   },
   "outputs": [],
   "source": [
    "class Square(Function): # __ call __ 메서드 그대로 계승\n",
    "  def forward(self,x):\n",
    "    return x**2"
   ]
  },
  {
   "cell_type": "code",
   "execution_count": 7,
   "metadata": {
    "colab": {
     "base_uri": "https://localhost:8080/"
    },
    "id": "qCeaTAspzl8P",
    "outputId": "cedc893f-2161-4aa0-fd40-1691f2b5e8b4"
   },
   "outputs": [
    {
     "name": "stdout",
     "output_type": "stream",
     "text": [
      "<class '__main__.Variable'>\n",
      "100\n"
     ]
    }
   ],
   "source": [
    "x = Variable(np.array(10))\n",
    "f = Square()\n",
    "y = f(x)\n",
    "\n",
    "print(type(y))\n",
    "print(y.data)"
   ]
  },
  {
   "cell_type": "markdown",
   "metadata": {
    "id": "RCbBj4Bi0HAH"
   },
   "source": [
    "# STEP_03"
   ]
  },
  {
   "cell_type": "markdown",
   "metadata": {
    "id": "h8wrep140L4i"
   },
   "source": [
    "## 3.1 Exp 함수 구현"
   ]
  },
  {
   "cell_type": "code",
   "execution_count": 8,
   "metadata": {
    "id": "9ylKkLyd0Kks"
   },
   "outputs": [],
   "source": [
    "class Exp(Function):\n",
    "  def forward(Self, x):\n",
    "    return np.exp(x)"
   ]
  },
  {
   "cell_type": "markdown",
   "metadata": {
    "id": "a9WnJT_o9WOV"
   },
   "source": [
    "## 3.2 함수 연결"
   ]
  },
  {
   "cell_type": "code",
   "execution_count": 10,
   "metadata": {
    "id": "EgIwCbau9ak1"
   },
   "outputs": [
    {
     "name": "stdout",
     "output_type": "stream",
     "text": [
      "1.648721270700128\n"
     ]
    }
   ],
   "source": [
    "A = Square()\n",
    "B = Exp()\n",
    "C = Square()\n",
    "\n",
    "x = Variable(np.array(0.5))\n",
    "a = A(x)\n",
    "b = B(a)\n",
    "y = C(b)\n",
    "\n",
    "print(y.data)"
   ]
  },
  {
   "cell_type": "markdown",
   "metadata": {},
   "source": [
    "# STEP_04"
   ]
  },
  {
   "cell_type": "markdown",
   "metadata": {},
   "source": [
    "## 4.1 미분이란?"
   ]
  },
  {
   "cell_type": "markdown",
   "metadata": {},
   "source": [
    "## 4.2 수치 미분 구현"
   ]
  },
  {
   "cell_type": "markdown",
   "metadata": {},
   "source": [
    "중앙 미분"
   ]
  },
  {
   "cell_type": "code",
   "execution_count": 11,
   "metadata": {},
   "outputs": [],
   "source": [
    "def numerical_diff(f, x, eps=1e-4):\n",
    "    x0 = Variable(x.data - eps)\n",
    "    x1 = Variable(x.data + eps)\n",
    "    y0 = f(x0)\n",
    "    y1 = f(x1)\n",
    "    return (y1.data-y0.data)/(2*eps)"
   ]
  },
  {
   "cell_type": "code",
   "execution_count": 12,
   "metadata": {},
   "outputs": [
    {
     "name": "stdout",
     "output_type": "stream",
     "text": [
      "4.000000000004\n",
      "ERROR! Session/line number was not unique in database. History logging moved to new session 111\n"
     ]
    }
   ],
   "source": [
    "f = Square()\n",
    "x = Variable(np.array(2.0))\n",
    "dy = numerical_diff(f,x)\n",
    "print(dy)"
   ]
  },
  {
   "cell_type": "markdown",
   "metadata": {},
   "source": [
    "## 4.3 합성 함수의 미분"
   ]
  },
  {
   "cell_type": "code",
   "execution_count": 13,
   "metadata": {},
   "outputs": [
    {
     "name": "stdout",
     "output_type": "stream",
     "text": [
      "3.2974426293330694\n"
     ]
    }
   ],
   "source": [
    "def f(x):\n",
    "    A = Square()\n",
    "    B = Exp()\n",
    "    C = Square()\n",
    "    return C(B(A(x)))\n",
    "\n",
    "x = Variable(np.array(0.5))\n",
    "dy = numerical_diff(f,x)\n",
    "print(dy)"
   ]
  },
  {
   "cell_type": "markdown",
   "metadata": {
    "id": "RPd85Fkws1Dx"
   },
   "source": [
    "# NOTIONS"
   ]
  },
  {
   "cell_type": "markdown",
   "metadata": {
    "id": "MPPkyeBvs5fK"
   },
   "source": [
    "## __ call __  method\n"
   ]
  },
  {
   "cell_type": "markdown",
   "metadata": {
    "id": "EVnwJO6evh47"
   },
   "source": [
    "## __ name __ : \n",
    "[내부적인 구분자에 접근](https://tech.ssut.me/python-functions-are-first-class/)\n",
    "\n"
   ]
  },
  {
   "cell_type": "markdown",
   "metadata": {
    "id": "60-TEX3Dv1se"
   },
   "source": [
    "## 상속"
   ]
  },
  {
   "cell_type": "code",
   "execution_count": null,
   "metadata": {
    "id": "JsSaSxBetIjR"
   },
   "outputs": [],
   "source": []
  },
  {
   "cell_type": "code",
   "execution_count": null,
   "metadata": {
    "id": "8p0Wwx_Hs9OE"
   },
   "outputs": [],
   "source": []
  },
  {
   "cell_type": "code",
   "execution_count": null,
   "metadata": {
    "id": "PCmh0TaRs3RA"
   },
   "outputs": [],
   "source": []
  },
  {
   "cell_type": "code",
   "execution_count": null,
   "metadata": {
    "id": "8Tgmozeqf4bH"
   },
   "outputs": [],
   "source": []
  }
 ],
 "metadata": {
  "colab": {
   "collapsed_sections": [],
   "name": "goal01_step01_.ipynb",
   "provenance": [],
   "toc_visible": true
  },
  "kernelspec": {
   "display_name": "Python 3",
   "language": "python",
   "name": "python3"
  },
  "language_info": {
   "codemirror_mode": {
    "name": "ipython",
    "version": 3
   },
   "file_extension": ".py",
   "mimetype": "text/x-python",
   "name": "python",
   "nbconvert_exporter": "python",
   "pygments_lexer": "ipython3",
   "version": "3.8.5"
  },
  "toc": {
   "base_numbering": 1,
   "nav_menu": {},
   "number_sections": true,
   "sideBar": true,
   "skip_h1_title": false,
   "title_cell": "Table of Contents",
   "title_sidebar": "Contents",
   "toc_cell": true,
   "toc_position": {},
   "toc_section_display": true,
   "toc_window_display": false
  },
  "varInspector": {
   "cols": {
    "lenName": 16,
    "lenType": 16,
    "lenVar": 40
   },
   "kernels_config": {
    "python": {
     "delete_cmd_postfix": "",
     "delete_cmd_prefix": "del ",
     "library": "var_list.py",
     "varRefreshCmd": "print(var_dic_list())"
    },
    "r": {
     "delete_cmd_postfix": ") ",
     "delete_cmd_prefix": "rm(",
     "library": "var_list.r",
     "varRefreshCmd": "cat(var_dic_list()) "
    }
   },
   "types_to_exclude": [
    "module",
    "function",
    "builtin_function_or_method",
    "instance",
    "_Feature"
   ],
   "window_display": false
  }
 },
 "nbformat": 4,
 "nbformat_minor": 1
}
