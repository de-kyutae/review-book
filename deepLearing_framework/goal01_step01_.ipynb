{
  "nbformat": 4,
  "nbformat_minor": 0,
  "metadata": {
    "kernelspec": {
      "display_name": "Python 3",
      "language": "python",
      "name": "python3"
    },
    "language_info": {
      "codemirror_mode": {
        "name": "ipython",
        "version": 2
      },
      "file_extension": ".py",
      "mimetype": "text/x-python",
      "name": "python",
      "nbconvert_exporter": "python",
      "pygments_lexer": "ipython2",
      "version": "2.7.6"
    },
    "colab": {
      "name": "goal01_step01_.ipynb",
      "provenance": [],
      "collapsed_sections": [],
      "toc_visible": true
    }
  },
  "cells": [
    {
      "cell_type": "code",
      "metadata": {
        "colab": {
          "base_uri": "https://localhost:8080/"
        },
        "id": "8tx08YDHZv_t",
        "outputId": "7d590e89-b810-45b1-f1e9-c72649f3ecf7"
      },
      "source": [
        "from google.colab import drive\n",
        "drive.mount('/content/drive')"
      ],
      "execution_count": null,
      "outputs": [
        {
          "output_type": "stream",
          "text": [
            "Mounted at /content/drive\n"
          ],
          "name": "stdout"
        }
      ]
    },
    {
      "cell_type": "code",
      "metadata": {
        "id": "IBPxZXGz_YAr"
      },
      "source": [
        "cd \"/content/drive/MyDrive/Colab Notebooks/git\""
      ],
      "execution_count": null,
      "outputs": []
    },
    {
      "cell_type": "code",
      "metadata": {
        "id": "uVX0jeb8_jvv"
      },
      "source": [
        "! git clone https://github.com/de-kyutae/review_book.git"
      ],
      "execution_count": null,
      "outputs": []
    },
    {
      "cell_type": "markdown",
      "metadata": {
        "id": "BmFB52pbdIT6"
      },
      "source": [
        "# STEP_01"
      ]
    },
    {
      "cell_type": "markdown",
      "metadata": {
        "id": "1QBwxB0baYqH"
      },
      "source": [
        "## 1.1 변수란?"
      ]
    },
    {
      "cell_type": "code",
      "metadata": {
        "id": "s6lY2rNUdE3H"
      },
      "source": [
        ""
      ],
      "execution_count": null,
      "outputs": []
    },
    {
      "cell_type": "markdown",
      "metadata": {
        "id": "9SM2yn-zaeYj"
      },
      "source": [
        "## 1.2 Variable 클래스 구현\n",
        "(PEP8 코딩 규칙)\n"
      ]
    },
    {
      "cell_type": "code",
      "metadata": {
        "id": "9N6O8gbiabYT"
      },
      "source": [
        "class Variable:\n",
        "  def __init__(self, data):\n",
        "    self.data=data #__init__에 주어진 인수를 인스턴스 변수 data에 대입, 실제 데이터가 Variable의 data에 보관\n"
      ],
      "execution_count": null,
      "outputs": []
    },
    {
      "cell_type": "markdown",
      "metadata": {
        "id": "guRHsfakbGMX"
      },
      "source": [
        "상자에 넣는 데이터로 넘파이의 다차원 배열 사용"
      ]
    },
    {
      "cell_type": "code",
      "metadata": {
        "colab": {
          "base_uri": "https://localhost:8080/"
        },
        "id": "MqZpdAtqa_jP",
        "outputId": "c467c680-fa46-40d3-8933-8e81c1e4d219"
      },
      "source": [
        "import numpy as np\n",
        "\n",
        "data = np.array(1.0)\n",
        "x = Variable(data) # x는 데이터를 담는 상자\n",
        "print(x.data)"
      ],
      "execution_count": null,
      "outputs": [
        {
          "output_type": "stream",
          "text": [
            "1.0\n"
          ],
          "name": "stdout"
        }
      ]
    },
    {
      "cell_type": "markdown",
      "metadata": {
        "id": "IvTWVCcXb7vL"
      },
      "source": [
        "## 1.3 넘파이의 다차원 배열"
      ]
    },
    {
      "cell_type": "markdown",
      "metadata": {
        "id": "8ak9nh5Gce2m"
      },
      "source": [
        "3차원 벡터 : 벡터의 원소의 수\n",
        "\n",
        "3차원 배열 : 축이 3개"
      ]
    },
    {
      "cell_type": "markdown",
      "metadata": {
        "id": "1jblatImdRiT"
      },
      "source": [
        "# STEP_02"
      ]
    },
    {
      "cell_type": "markdown",
      "metadata": {
        "id": "JvCCf8eCdVni"
      },
      "source": [
        "## 2.1 함수란?"
      ]
    },
    {
      "cell_type": "markdown",
      "metadata": {
        "id": "aFtnS7DGeE00"
      },
      "source": [
        "graph : 컴퓨터 과학에서 그래프는 노드(node: 교점)와 (방향이 있는)에지(edge: 변, 간선)로 구성된 데이터 "
      ]
    },
    {
      "cell_type": "markdown",
      "metadata": {
        "id": "g0m-oeFSeK8Z"
      },
      "source": [
        "## 2.2 Function 클래스 구현 \n",
        "앞서 구현한 Variable 인스턴스 -> Function 클래스로 구현 (변수로 다룰수 있는 함수)\n",
        "\n",
        "\n",
        "*   Function 클래스는 Variable 인스턴스 입력을 받아 Variables 인스턴스를 출력\n",
        "*   Variable 인스턴스의 실제 데이터는 인스턴스 변수인 data에 있음 \n",
        "\n"
      ]
    },
    {
      "cell_type": "code",
      "metadata": {
        "id": "4TxI7rcKe0Wy"
      },
      "source": [
        "class Function:\n",
        "  def __call__(self, input): # call 메소드의 input : Variable 인스턴스\n",
        "    x = input.data # 데이터를 꺼낸다\n",
        "    y = x ** 2 # 실제 계산\n",
        "    output = Variable(y)\n",
        "    return output"
      ],
      "execution_count": null,
      "outputs": []
    },
    {
      "cell_type": "markdown",
      "metadata": {
        "id": "WbDI3IW3wmfe"
      },
      "source": [
        "## 2.3 Fucntion 클래스 이용 "
      ]
    },
    {
      "cell_type": "code",
      "metadata": {
        "colab": {
          "base_uri": "https://localhost:8080/"
        },
        "id": "zy8Q-Vjwwrfl",
        "outputId": "8acc1d4c-4d00-4e9a-b5e5-ae65e0c72832"
      },
      "source": [
        "x = Variable(np.array(10))\n",
        "f = Function()\n",
        "y = f(x)\n",
        "\n",
        "print(type(y)) # y의 클래스는 Variable\n",
        "print(y.data) # 데이터는 y.data에 저장"
      ],
      "execution_count": null,
      "outputs": [
        {
          "output_type": "stream",
          "text": [
            "<class '__main__.Variable'>\n",
            "100\n"
          ],
          "name": "stdout"
        }
      ]
    },
    {
      "cell_type": "markdown",
      "metadata": {
        "id": "80aGVadhxpxG"
      },
      "source": [
        "### Function 클래스 수정"
      ]
    },
    {
      "cell_type": "code",
      "metadata": {
        "id": "NSWecOGHw2sp"
      },
      "source": [
        "class Function:\n",
        "  def __call__(self, input): # call 메서드 두가지 작업 : 1) 'Variable에서 데이터 찾기'와 2)'계산 결과를 Variable에 포장하기' \n",
        "    x = input.data\n",
        "    y = self.forward(x)\n",
        "    output = Variable(y)\n",
        "    return output\n",
        "\n",
        "  def forward(self,x): #구체적인 계산을 하는 메소드\n",
        "    raise NotImplementedError()"
      ],
      "execution_count": null,
      "outputs": []
    },
    {
      "cell_type": "markdown",
      "metadata": {
        "id": "dabBPDikzEdz"
      },
      "source": [
        "### Function 클래스 상속"
      ]
    },
    {
      "cell_type": "code",
      "metadata": {
        "id": "z_nqMYpPuATk"
      },
      "source": [
        "class Square(Function): # __ call __ 메서드 그대로 계승\n",
        "  def forward(self,x):\n",
        "    return x**2"
      ],
      "execution_count": null,
      "outputs": []
    },
    {
      "cell_type": "code",
      "metadata": {
        "colab": {
          "base_uri": "https://localhost:8080/"
        },
        "id": "qCeaTAspzl8P",
        "outputId": "cedc893f-2161-4aa0-fd40-1691f2b5e8b4"
      },
      "source": [
        "x = Variable(np.array(10))\n",
        "f = Square()\n",
        "y = f(x)\n",
        "\n",
        "print(type(y))\n",
        "print(y.data)"
      ],
      "execution_count": null,
      "outputs": [
        {
          "output_type": "stream",
          "text": [
            "<class '__main__.Variable'>\n",
            "100\n"
          ],
          "name": "stdout"
        }
      ]
    },
    {
      "cell_type": "markdown",
      "metadata": {
        "id": "RCbBj4Bi0HAH"
      },
      "source": [
        "# STEP_03"
      ]
    },
    {
      "cell_type": "markdown",
      "metadata": {
        "id": "h8wrep140L4i"
      },
      "source": [
        "## 3.1 Exp 함수 구현"
      ]
    },
    {
      "cell_type": "code",
      "metadata": {
        "id": "9ylKkLyd0Kks"
      },
      "source": [
        "class Exp(Function):\n",
        "  def forward(Self, x):\n",
        "    return np.exp(x)"
      ],
      "execution_count": null,
      "outputs": []
    },
    {
      "cell_type": "markdown",
      "metadata": {
        "id": "a9WnJT_o9WOV"
      },
      "source": [
        "## 3.2 함수 연결"
      ]
    },
    {
      "cell_type": "code",
      "metadata": {
        "id": "EgIwCbau9ak1"
      },
      "source": [
        ""
      ],
      "execution_count": null,
      "outputs": []
    },
    {
      "cell_type": "markdown",
      "metadata": {
        "id": "RPd85Fkws1Dx"
      },
      "source": [
        "# NOTIONS"
      ]
    },
    {
      "cell_type": "markdown",
      "metadata": {
        "id": "MPPkyeBvs5fK"
      },
      "source": [
        "## __ call __  method\n"
      ]
    },
    {
      "cell_type": "markdown",
      "metadata": {
        "id": "EVnwJO6evh47"
      },
      "source": [
        "## __ name __ : \n",
        "[내부적인 구분자에 접근](https://tech.ssut.me/python-functions-are-first-class/)\n",
        "\n"
      ]
    },
    {
      "cell_type": "markdown",
      "metadata": {
        "id": "60-TEX3Dv1se"
      },
      "source": [
        "## 상속"
      ]
    },
    {
      "cell_type": "code",
      "metadata": {
        "id": "JsSaSxBetIjR"
      },
      "source": [
        ""
      ],
      "execution_count": null,
      "outputs": []
    },
    {
      "cell_type": "code",
      "metadata": {
        "id": "8p0Wwx_Hs9OE"
      },
      "source": [
        ""
      ],
      "execution_count": null,
      "outputs": []
    },
    {
      "cell_type": "code",
      "metadata": {
        "id": "PCmh0TaRs3RA"
      },
      "source": [
        ""
      ],
      "execution_count": null,
      "outputs": []
    },
    {
      "cell_type": "code",
      "metadata": {
        "id": "8Tgmozeqf4bH"
      },
      "source": [
        ""
      ],
      "execution_count": null,
      "outputs": []
    }
  ]
}